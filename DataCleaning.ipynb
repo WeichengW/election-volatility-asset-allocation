{
 "cells": [
  {
   "cell_type": "code",
   "execution_count": 8,
   "id": "67ef7744-41b6-4cb0-9118-d004b384f953",
   "metadata": {},
   "outputs": [
    {
     "name": "stdout",
     "output_type": "stream",
     "text": [
      "Final cleaned and merged file saved: 'Master_Volatility_Index_Daily.csv'\n"
     ]
    }
   ],
   "source": [
    "import pandas as pd\n",
    "\n",
    "# === Set working directory ===\n",
    "path = '/Users/weichengwang/Desktop/DukeMQMBA_CourseFiles/[5] Spring 2 Term (3:17:2025 - 4:30:2025)/Capstone Project/Finalized_Data_Analysis_wk5/a_DataCleaning'\n",
    "\n",
    "# === Load all datasets ===\n",
    "gvz = pd.read_csv(f'{path}/GVZ.csv')\n",
    "ovx = pd.read_csv(f'{path}/OVX.csv')\n",
    "tlt = pd.read_csv(f'{path}/TLT_impliedVol.csv')\n",
    "vix = pd.read_csv(f'{path}/VIX.csv')\n",
    "vxeem = pd.read_csv(f'{path}/VXEEM.csv')\n",
    "vxn = pd.read_csv(f'{path}/VXN.csv')\n",
    "\n",
    "# === Parse dates ===\n",
    "gvz['DATE'] = pd.to_datetime(gvz['DATE'])\n",
    "ovx['DATE'] = pd.to_datetime(ovx['DATE'])\n",
    "tlt['Date'] = pd.to_datetime(tlt['Date'])\n",
    "vix['DATE'] = pd.to_datetime(vix['DATE'])\n",
    "vxeem['DATE'] = pd.to_datetime(vxeem['DATE'])\n",
    "vxn['DATE'] = pd.to_datetime(vxn['DATE'])\n",
    "\n",
    "# === Process each dataset ===\n",
    "gvz = gvz.rename(columns={'GVZ': 'GVZ'})\n",
    "ovx = ovx.rename(columns={'OVX': 'OVX'})\n",
    "tlt = tlt.rename(columns={'Date': 'DATE', 'IV30': 'TLT_IV30'})\n",
    "vix['VIX'] = vix[['OPEN', 'HIGH', 'LOW', 'CLOSE']].mean(axis=1)\n",
    "vix = vix[['DATE', 'VIX']]\n",
    "vxeem['VXEEM'] = vxeem[['OPEN', 'HIGH', 'LOW', 'CLOSE']].mean(axis=1)\n",
    "vxeem = vxeem[['DATE', 'VXEEM']]\n",
    "vxn['VXN'] = vxn[['OPEN', 'HIGH', 'LOW', 'CLOSE']].mean(axis=1)\n",
    "vxn = vxn[['DATE', 'VXN']]\n",
    "\n",
    "# === Merge based on actual DATEs only ===\n",
    "df = gvz.merge(ovx, on='DATE', how='outer')\n",
    "df = df.merge(tlt[['DATE', 'TLT_IV30']], on='DATE', how='outer')\n",
    "df = df.merge(vix, on='DATE', how='outer')\n",
    "df = df.merge(vxeem, on='DATE', how='outer')\n",
    "df = df.merge(vxn, on='DATE', how='outer')\n",
    "\n",
    "# === Filter to target date range only ===\n",
    "df = df[(df['DATE'] >= '2000-01-01') & (df['DATE'] <= '2025-04-17')]\n",
    "df = df.sort_values('DATE')\n",
    "\n",
    "# === Save final dataset ===\n",
    "df.to_csv(f'{path}/Master_Volatility_Index_Daily.csv', index=False)\n",
    "print(\"Final cleaned and merged file saved: 'Master_Volatility_Index_Daily.csv'\")\n"
   ]
  }
 ],
 "metadata": {
  "kernelspec": {
   "display_name": "Python 3 (ipykernel)",
   "language": "python",
   "name": "python3"
  },
  "language_info": {
   "codemirror_mode": {
    "name": "ipython",
    "version": 3
   },
   "file_extension": ".py",
   "mimetype": "text/x-python",
   "name": "python",
   "nbconvert_exporter": "python",
   "pygments_lexer": "ipython3",
   "version": "3.12.4"
  }
 },
 "nbformat": 4,
 "nbformat_minor": 5
}
